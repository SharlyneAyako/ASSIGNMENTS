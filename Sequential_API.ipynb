{
  "nbformat": 4,
  "nbformat_minor": 0,
  "metadata": {
    "colab": {
      "provenance": [],
      "gpuType": "T4",
      "authorship_tag": "ABX9TyNtH+rg7Qu9x8c387P/25FY",
      "include_colab_link": true
    },
    "kernelspec": {
      "name": "python3",
      "display_name": "Python 3"
    },
    "language_info": {
      "name": "python"
    },
    "accelerator": "GPU"
  },
  "cells": [
    {
      "cell_type": "markdown",
      "metadata": {
        "id": "view-in-github",
        "colab_type": "text"
      },
      "source": [
        "<a href=\"https://colab.research.google.com/github/SharlyneAyako/ASSIGNMENTS/blob/main/Sequential_API.ipynb\" target=\"_parent\"><img src=\"https://colab.research.google.com/assets/colab-badge.svg\" alt=\"Open In Colab\"/></a>"
      ]
    },
    {
      "cell_type": "code",
      "execution_count": 33,
      "metadata": {
        "id": "vxuCZWR9n_wr"
      },
      "outputs": [],
      "source": [
        "# importing libraries\n",
        "import tensorflow as tf\n",
        "from tensorflow.keras.datasets import mnist\n",
        "from tensorflow.keras.models import Sequential\n",
        "from tensorflow.keras.layers import Flatten,Dense,Dropout\n",
        "from tensorflow.keras.callbacks import EarlyStopping ,ModelCheckpoint\n",
        "import matplotlib.pyplot as plt\n",
        "from tensorflow.keras import regularizers\n",
        "\n"
      ]
    },
    {
      "cell_type": "code",
      "source": [
        "# importing dataset\n",
        "(x_train,y_train),(x_test,y_test)= mnist.load_data()\n",
        "x_train.shape"
      ],
      "metadata": {
        "colab": {
          "base_uri": "https://localhost:8080/"
        },
        "id": "xFgUquuprL3Q",
        "outputId": "6fb173a9-21cd-4cff-c584-4ec639f01b70"
      },
      "execution_count": 34,
      "outputs": [
        {
          "output_type": "execute_result",
          "data": {
            "text/plain": [
              "(60000, 28, 28)"
            ]
          },
          "metadata": {},
          "execution_count": 34
        }
      ]
    },
    {
      "cell_type": "code",
      "source": [
        "# visualizaton\n",
        "plt.imshow(x_train[5000] ,cmap=\"grey\")\n",
        "plt.title(f\"Label: {y_train[5000]}\")"
      ],
      "metadata": {
        "colab": {
          "base_uri": "https://localhost:8080/",
          "height": 469
        },
        "id": "d5qz6BWfsCj5",
        "outputId": "027ddbd7-0ff2-48b2-aa53-bc98e38a10bd"
      },
      "execution_count": 35,
      "outputs": [
        {
          "output_type": "execute_result",
          "data": {
            "text/plain": [
              "Text(0.5, 1.0, 'Label: 7')"
            ]
          },
          "metadata": {},
          "execution_count": 35
        },
        {
          "output_type": "display_data",
          "data": {
            "text/plain": [
              "<Figure size 640x480 with 1 Axes>"
            ],
            "image/png": "[encoded data removed]"
          },
          "metadata": {}
        }
      ]
    },
    {
      "cell_type": "code",
      "source": [
        "model = Sequential([\n",
        "    Flatten(input_shape =(28, 28)),\n",
        "    Dense(200,activation =\"relu\", kernel_regularizer=regularizers.l2(0.001)),\n",
        "    Dropout(0.3),\n",
        "    Dense(184,activation =\"relu\",kernel_regularizer=regularizers.l2(0.001)),\n",
        "    Dropout(0.3),\n",
        "    Dense(168,activation =\"relu\",kernel_regularizer=regularizers.l2(0.001)),\n",
        "    Dropout(0.25),\n",
        "    Dense(100,activation =\"relu\",kernel_regularizer=regularizers.l2(0.001)),\n",
        "    Dropout(0.2),\n",
        "    Dense(48,activation =\"relu\",kernel_regularizer=regularizers.l2(0.001)),\n",
        "    Dropout(0.1),\n",
        "    Dense(10,activation =\"softmax\")\n",
        "])"
      ],
      "metadata": {
        "colab": {
          "base_uri": "https://localhost:8080/"
        },
        "id": "lAXg3MJ1spLi",
        "outputId": "aa2046ee-042b-4883-f832-91685922f1d0"
      },
      "execution_count": 36,
      "outputs": [
        {
          "output_type": "stream",
          "name": "stderr",
          "text": [
            "/usr/local/lib/python3.12/dist-packages/keras/src/layers/reshaping/flatten.py:37: UserWarning: Do not pass an `input_shape`/`input_dim` argument to a layer. When using Sequential models, prefer using an `Input(shape)` object as the first layer in the model instead.\n",
            "  super().__init__(**kwargs)\n"
          ]
        }
      ]
    },
    {
      "cell_type": "code",
      "source": [
        "model.compile(optimizer=\"adam\", loss=\"sparse_categorical_crossentropy\", metrics=[\"accuracy\"])"
      ],
      "metadata": {
        "id": "G06qcyR7zEsL"
      },
      "execution_count": 37,
      "outputs": []
    },
    {
      "cell_type": "code",
      "source": [
        "#setting callbacks\n",
        "callbacks =[\n",
        "    EarlyStopping(monitor=\"Val_loss\" , patience=5),\n",
        "    ModelCheckpoint(\"Best.h5\", save_best_only =True)\n",
        "]"
      ],
      "metadata": {
        "id": "WpOuxT33vedd"
      },
      "execution_count": 38,
      "outputs": []
    },
    {
      "cell_type": "code",
      "source": [
        "# Evaluating the model\n",
        "loss,accuracy = model.evaluate(x_test,y_test)\n",
        "print(\"Accuracy:\", accuracy)\n",
        "print(\"Loss:\" ,loss)"
      ],
      "metadata": {
        "colab": {
          "base_uri": "https://localhost:8080/"
        },
        "id": "7DODx48Gwr7f",
        "outputId": "50ac6607-2c86-46b6-c54e-1c9ef082646c"
      },
      "execution_count": 39,
      "outputs": [
        {
          "output_type": "stream",
          "name": "stdout",
          "text": [
            "\u001b[1m313/313\u001b[0m \u001b[32m━━━━━━━━━━━━━━━━━━━━\u001b[0m\u001b[37m\u001b[0m \u001b[1m2s\u001b[0m 4ms/step - accuracy: 0.0846 - loss: 84.9898\n",
            "Accuracy: 0.08219999819993973\n",
            "Loss: 87.73619842529297\n"
          ]
        }
      ]
    }
  ]
}